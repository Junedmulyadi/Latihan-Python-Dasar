{
 "cells": [
  {
   "cell_type": "markdown",
   "metadata": {},
   "source": [
    "# Struktur Kode Program Python\n",
    "Python termasuk bahasa pemrograman yang sangat minimalis. Kita tidak butuh membuat struktur program apapun. Ini sering dijadikan “meme” di internet untuk menunjukkan betapa mudahnya membuat kode program dalam bahasa Python."
   ]
  },
  {
   "cell_type": "markdown",
   "metadata": {},
   "source": [
    "#### Sebagai contoh, berikut kode program dalam bahasa C untuk menampilkan teks “Hello World”:"
   ]
  },
  {
   "cell_type": "raw",
   "metadata": {},
   "source": [
    "#include <stdio.h>\n",
    "int main(void)\n",
    "{\n",
    "  printf(\"Hello World\");\n",
    "  return 0;\n",
    "}"
   ]
  },
  {
   "cell_type": "markdown",
   "metadata": {},
   "source": [
    "#### Berikut kode program dalam bahasa Pascal untuk menampilkan teks “Hello World”:"
   ]
  },
  {
   "cell_type": "raw",
   "metadata": {},
   "source": [
    "program hello_world;\n",
    "begin\n",
    "  writeln('Hello World');\n",
    "  readln;\n",
    "end."
   ]
  },
  {
   "cell_type": "markdown",
   "metadata": {},
   "source": [
    "#### Dan berikut kode program dalam bahasa Python untuk menampilkan teks “Hello World”:"
   ]
  },
  {
   "cell_type": "raw",
   "metadata": {},
   "source": [
    "print(\"Hello World\")"
   ]
  },
  {
   "cell_type": "markdown",
   "metadata": {},
   "source": [
    "Yup, hanya satu baris saja. Dan dari kode program ini bisa disimpulkan bahwa print adalah perintah Python untuk menampilkan teks ke layar. Sangat sederhana."
   ]
  },
  {
   "cell_type": "markdown",
   "metadata": {},
   "source": [
    "# Statement Terminator\n",
    "Selain tidak butuh struktur dasar, bahasa Python juga tidak perlu tanda titik koma ( ; ) di akhir setiap perintah sebagaimana yang sering ditemukan dalam bahasa pemrograman lain.\n",
    "\n",
    "Secara teknis, Python menggunakan karakter new line sebagai pemisah perintah. Karakter newline ini tidak lain adalah penanda pindah baris yang kita buat dengan cara menekan tombol Enter. Berikut contoh kode program Python dengan 4 baris perintah:"
   ]
  },
  {
   "cell_type": "code",
   "execution_count": 2,
   "metadata": {},
   "outputs": [
    {
     "name": "stdout",
     "output_type": "stream",
     "text": [
      "Hello World\n",
      "Sedang belajar bahasa Python di Kelas Volkerding\n",
      "Semangat!!\n"
     ]
    }
   ],
   "source": [
    "print(\"Hello World\")\n",
    "web=\"Kelas Volkerding\"\n",
    "print(\"Sedang belajar bahasa Python di \"+web)\n",
    "print(\"Semangat!!\")"
   ]
  },
  {
   "cell_type": "markdown",
   "metadata": {},
   "source": [
    "------\n",
    "Selama tiap perintah berada dalam baris yang berlainan, itu sudah cukup.\n",
    "\n",
    "Meskipun begitu, Python tidak protes seandainya kita tetap ingin menambah tanda titik dua di akhir setiap perintah:"
   ]
  },
  {
   "cell_type": "code",
   "execution_count": 4,
   "metadata": {},
   "outputs": [
    {
     "name": "stdout",
     "output_type": "stream",
     "text": [
      "Hello World\n",
      "Sedang belajar bahasa Python di Kelas Volkerding\n",
      "Semangat!!\n"
     ]
    }
   ],
   "source": [
    "print(\"Hello World\");\n",
    "web=\"Kelas Volkerding\";\n",
    "print(\"Sedang belajar bahasa Python di \"+web);\n",
    "print(\"Semangat!!\");"
   ]
  },
  {
   "cell_type": "markdown",
   "metadata": {},
   "source": [
    "-------\n",
    "Tanda titik koma ini menjadi harus ditulis jika kita ingin menulis beberapa perintah dalam 1 baris kode program:"
   ]
  },
  {
   "cell_type": "code",
   "execution_count": 6,
   "metadata": {},
   "outputs": [
    {
     "name": "stdout",
     "output_type": "stream",
     "text": [
      "Hello World\n",
      "Sedang belajar bahasa Python di Kelas Volkerding\n",
      "Semangat!!\n",
      "5+5\n"
     ]
    }
   ],
   "source": [
    "print(\"Hello World\"); web=\"Kelas Volkerding\";\n",
    "print(\"Sedang belajar bahasa Python di \"+web); print(\"Semangat!!\"); \n",
    "print('5+5');"
   ]
  },
  {
   "cell_type": "markdown",
   "metadata": {},
   "source": [
    "#### Note :\n",
    "Namun penulisan seperti ini tidak disarankan karena susah bagi kita untuk membacanya. Sebaiknya tempatkan 1 perintah dalam satu baris saja."
   ]
  },
  {
   "cell_type": "markdown",
   "metadata": {},
   "source": [
    "## Perbedaan Huruf Besar / Kecil dalam Bahasa Python\n",
    "Bahasa Python menganut aturan penulisan case sensitif, yang artinya huruf besar dan kecil dianggap berbeda. Perintah print tidak bisa ditulis menjadi Print atau PRINT. Ini berlaku untuk perintah-perintah lain seperti variabel dan keyword.\n",
    "\n",
    "Berikut tampilan pesan error di Python ketika saya menulis perintah Print (dengan awalan huruf “P” besar):\n",
    "\n"
   ]
  },
  {
   "cell_type": "code",
   "execution_count": 1,
   "metadata": {},
   "outputs": [
    {
     "ename": "NameError",
     "evalue": "name 'Print' is not defined",
     "output_type": "error",
     "traceback": [
      "\u001b[0;31m---------------------------------------------------------------------------\u001b[0m",
      "\u001b[0;31mNameError\u001b[0m                                 Traceback (most recent call last)",
      "\u001b[0;32m<ipython-input-1-0b290fce7bbf>\u001b[0m in \u001b[0;36m<module>\u001b[0;34m\u001b[0m\n\u001b[0;32m----> 1\u001b[0;31m \u001b[0mPrint\u001b[0m\u001b[0;34m(\u001b[0m\u001b[0;34m\"Kelas Volkerding\"\u001b[0m\u001b[0;34m)\u001b[0m\u001b[0;34m\u001b[0m\u001b[0;34m\u001b[0m\u001b[0m\n\u001b[0m\u001b[1;32m      2\u001b[0m \u001b[0ma\u001b[0m \u001b[0;34m=\u001b[0m \u001b[0;34m\"volkerding\"\u001b[0m\u001b[0;34m\u001b[0m\u001b[0;34m\u001b[0m\u001b[0m\n\u001b[1;32m      3\u001b[0m \u001b[0mprint\u001b[0m\u001b[0;34m(\u001b[0m\u001b[0ma\u001b[0m\u001b[0;34m)\u001b[0m\u001b[0;34m\u001b[0m\u001b[0;34m\u001b[0m\u001b[0m\n",
      "\u001b[0;31mNameError\u001b[0m: name 'Print' is not defined"
     ]
    }
   ],
   "source": [
    "Print(\"Kelas Volkerding\")"
   ]
  },
  {
   "cell_type": "code",
   "execution_count": 3,
   "metadata": {},
   "outputs": [
    {
     "ename": "NameError",
     "evalue": "name 'A' is not defined",
     "output_type": "error",
     "traceback": [
      "\u001b[0;31m---------------------------------------------------------------------------\u001b[0m",
      "\u001b[0;31mNameError\u001b[0m                                 Traceback (most recent call last)",
      "\u001b[0;32m<ipython-input-3-b561ab34444e>\u001b[0m in \u001b[0;36m<module>\u001b[0;34m\u001b[0m\n\u001b[1;32m      1\u001b[0m \u001b[0ma\u001b[0m \u001b[0;34m=\u001b[0m \u001b[0;34m\"volkerding\"\u001b[0m\u001b[0;34m\u001b[0m\u001b[0;34m\u001b[0m\u001b[0m\n\u001b[0;32m----> 2\u001b[0;31m \u001b[0mprint\u001b[0m\u001b[0;34m(\u001b[0m\u001b[0mA\u001b[0m\u001b[0;34m)\u001b[0m\u001b[0;34m\u001b[0m\u001b[0;34m\u001b[0m\u001b[0m\n\u001b[0m",
      "\u001b[0;31mNameError\u001b[0m: name 'A' is not defined"
     ]
    }
   ],
   "source": [
    "a = \"volkerding\"\n",
    "print(A)"
   ]
  },
  {
   "cell_type": "code",
   "execution_count": 8,
   "metadata": {},
   "outputs": [
    {
     "name": "stdout",
     "output_type": "stream",
     "text": [
      "Kelas Volkerding\n"
     ]
    }
   ],
   "source": [
    "print(\"Kelas Volkerding\")"
   ]
  },
  {
   "cell_type": "markdown",
   "metadata": {},
   "source": [
    "## Indentations\n",
    "Dalam bahasa Indonesia, indentations bisa di translate sebagai indentasi. Bahasa bebasnya, indentasi adalah menggeser atau “menjorokkan” beberapa baris kode program ke arah dalam.\n",
    "\n",
    "Biasanya indentasi dipakai untuk sekedar memudahkan pembacaan kode program, namun dalam Python, indentasi berfungsi sebagai penanda blok kode program.\n",
    "\n",
    "Perhatikan kode program berikut ini:"
   ]
  },
  {
   "cell_type": "code",
   "execution_count": 9,
   "metadata": {},
   "outputs": [
    {
     "name": "stdout",
     "output_type": "stream",
     "text": [
      "0\n",
      "1\n",
      "2\n",
      "Yay, angka 2\n",
      "3\n",
      "4\n"
     ]
    }
   ],
   "source": [
    "for x in range(0,5):\n",
    "    print (x)\n",
    "    if (x == 2):\n",
    "    print(\"Yay angka 2\")"
   ]
  },
  {
   "cell_type": "markdown",
   "metadata": {},
   "source": [
    "#### Note :\n",
    "Maksud dari kode program ini boleh diabaikan terlebih dahulu karena akan kita bahas secara bertahap dalam tutorial-tutorial berikutnya."
   ]
  },
  {
   "cell_type": "markdown",
   "metadata": {},
   "source": [
    "-------\n",
    "Tetapi perhatikan spasi di awal baris mulai dari baris ke 2 sampai ke 4. Inilah yang disebut dengan indentasi. Dalam bahasa pemrograman lain, indentasi ini hanya sebatas “pemanis” untuk mempermudah pembacaan kode program, tanpa tambahan spasi di awal pun kode program tetap berjalan sebagaimana mestinya.\n",
    "\n",
    "Namun dalam bahasa Python, spasi di awal baris memiliki makna untuk membuat blok kode program. Jika indentasi di hapus, kode Python bisa menghasilkan error."
   ]
  },
  {
   "cell_type": "code",
   "execution_count": 10,
   "metadata": {},
   "outputs": [
    {
     "ename": "IndentationError",
     "evalue": "expected an indented block (<ipython-input-10-5b47281c3ba5>, line 2)",
     "output_type": "error",
     "traceback": [
      "\u001b[0;36m  File \u001b[0;32m\"<ipython-input-10-5b47281c3ba5>\"\u001b[0;36m, line \u001b[0;32m2\u001b[0m\n\u001b[0;31m    print (x)\u001b[0m\n\u001b[0m    ^\u001b[0m\n\u001b[0;31mIndentationError\u001b[0m\u001b[0;31m:\u001b[0m expected an indented block\n"
     ]
    }
   ],
   "source": [
    "for x in range(0, 5):\n",
    "    print (x)\n",
    "    if (x == 2):\n",
    "    print(\"Yay, angka 2\")"
   ]
  },
  {
   "cell_type": "markdown",
   "metadata": {},
   "source": [
    "### Kode diatas menghasilkan error karena saya menghapus spasi di awal baris kedua.\n",
    "\n",
    "Lebih jauh tentang indentasi dan blok kode program akan kita bahas pada saat masuk ke kondisi if dan perulangan. Untuk saat ini yang perlu dipahami adalah, spasi di awal kode program sangat penting di dalam Python."
   ]
  },
  {
   "cell_type": "markdown",
   "metadata": {},
   "source": [
    "# Materi Tambahan\n",
    "Tentang memanfaatkan IFrame, IFrame adalah sebuah fungsi yang digunakan untuk menampilkan dokument HTLM/ sebuah jalaman Web, disini ada dua cara, berikut adalah codingannya :"
   ]
  },
  {
   "cell_type": "code",
   "execution_count": 11,
   "metadata": {},
   "outputs": [
    {
     "data": {
      "text/html": [
       "\n",
       "        <iframe\n",
       "            width=\"800\"\n",
       "            height=\"600\"\n",
       "            src=\"http://orbitfutureacademy.id\"\n",
       "            frameborder=\"0\"\n",
       "            allowfullscreen\n",
       "        ></iframe>\n",
       "        "
      ],
      "text/plain": [
       "<IPython.lib.display.IFrame at 0x10db21a60>"
      ]
     },
     "execution_count": 11,
     "metadata": {},
     "output_type": "execute_result"
    }
   ],
   "source": [
    "from IPython.display import IFrame\n",
    "url = 'http://orbitfutureacademy.id'\n",
    "IFrame(url, width=800, height=600)"
   ]
  },
  {
   "cell_type": "code",
   "execution_count": 12,
   "metadata": {},
   "outputs": [
    {
     "name": "stderr",
     "output_type": "stream",
     "text": [
      "/opt/anaconda3/lib/python3.8/site-packages/IPython/core/display.py:717: UserWarning: Consider using IPython.display.IFrame instead\n",
      "  warnings.warn(\"Consider using IPython.display.IFrame instead\")\n"
     ]
    },
    {
     "data": {
      "text/html": [
       "<iframe src=http://orbitfutureacademy.id width=800 height=600></iframe>"
      ],
      "text/plain": [
       "<IPython.core.display.HTML object>"
      ]
     },
     "execution_count": 12,
     "metadata": {},
     "output_type": "execute_result"
    }
   ],
   "source": [
    "from IPython.display import HTML\n",
    "HTML('<iframe src=http://orbitfutureacademy.id width=800 height=600></iframe>')"
   ]
  }
 ],
 "metadata": {
  "kernelspec": {
   "display_name": "Python 3",
   "language": "python",
   "name": "python3"
  },
  "language_info": {
   "codemirror_mode": {
    "name": "ipython",
    "version": 3
   },
   "file_extension": ".py",
   "mimetype": "text/x-python",
   "name": "python",
   "nbconvert_exporter": "python",
   "pygments_lexer": "ipython3",
   "version": "3.8.5"
  }
 },
 "nbformat": 4,
 "nbformat_minor": 4
}
